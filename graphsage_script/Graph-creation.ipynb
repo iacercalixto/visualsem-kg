{
 "cells": [
  {
   "cell_type": "code",
   "execution_count": 1,
   "metadata": {},
   "outputs": [],
   "source": [
    "import json\n",
    "import numpy as np\n",
    "import torch\n",
    "import pandas as pd\n",
    "import pickle"
   ]
  },
  {
   "cell_type": "code",
   "execution_count": 2,
   "metadata": {},
   "outputs": [],
   "source": [
    "import time\n",
    "import graph_utils\n",
    "from utils import get_metrics_dict\n",
    "from graph_utils import build_graph, get_train_val_test_masks"
   ]
  },
  {
   "cell_type": "code",
   "execution_count": 3,
   "metadata": {},
   "outputs": [],
   "source": [
    "with open('./nodes_new.json', 'r') as fh:\n",
    "    dataset_nodes = json.load(fh)"
   ]
  },
  {
   "cell_type": "code",
   "execution_count": 4,
   "metadata": {},
   "outputs": [],
   "source": [
    "with open('./edges.json', 'r') as fh:\n",
    "    dataset_edges = json.load(fh)"
   ]
  },
  {
   "cell_type": "markdown",
   "metadata": {},
   "source": [
    "### Summary statistics"
   ]
  },
  {
   "cell_type": "code",
   "execution_count": 5,
   "metadata": {},
   "outputs": [
    {
     "name": "stdout",
     "output_type": "stream",
     "text": [
      "number of nodes: 101244\n"
     ]
    }
   ],
   "source": [
    "print(\"number of nodes:\", len(dataset_nodes.keys()))"
   ]
  },
  {
   "cell_type": "code",
   "execution_count": 6,
   "metadata": {},
   "outputs": [
    {
     "name": "stdout",
     "output_type": "stream",
     "text": [
      "number of nodes in relation set: 100337\n"
     ]
    }
   ],
   "source": [
    "print(\"number of nodes in relation set:\", len(dataset_edges.keys()))"
   ]
  },
  {
   "cell_type": "code",
   "execution_count": 7,
   "metadata": {},
   "outputs": [],
   "source": [
    "#join nodes with edges to get all the edge information \n",
    "#flatten node dataframe\n",
    "df_node = pd.DataFrame.from_dict(dataset_nodes.items())\n",
    "df_node.columns = ['node_id_str','features']\n",
    "df_node = pd.concat([df_node, df_node['features'].apply(pd.Series)], axis = 1).drop('features', axis = 1)"
   ]
  },
  {
   "cell_type": "code",
   "execution_count": 8,
   "metadata": {},
   "outputs": [
    {
     "data": {
      "text/html": [
       "<div>\n",
       "<style scoped>\n",
       "    .dataframe tbody tr th:only-of-type {\n",
       "        vertical-align: middle;\n",
       "    }\n",
       "\n",
       "    .dataframe tbody tr th {\n",
       "        vertical-align: top;\n",
       "    }\n",
       "\n",
       "    .dataframe thead th {\n",
       "        text-align: right;\n",
       "    }\n",
       "</style>\n",
       "<table border=\"1\" class=\"dataframe\">\n",
       "  <thead>\n",
       "    <tr style=\"text-align: right;\">\n",
       "      <th></th>\n",
       "      <th>node_id_str</th>\n",
       "      <th>gl</th>\n",
       "      <th>ms</th>\n",
       "      <th>se</th>\n",
       "      <th>ims</th>\n",
       "    </tr>\n",
       "  </thead>\n",
       "  <tbody>\n",
       "    <tr>\n",
       "      <th>0</th>\n",
       "      <td>bn:00073045n</td>\n",
       "      <td>[A portable heating appliance used to warm an ...</td>\n",
       "      <td>WN:EN:space_heater</td>\n",
       "      <td>[Space_heating, Spaceheater, space_heater]</td>\n",
       "      <td>[b3b7f9023408b19fec70e883030fc730181dc67c, 33e...</td>\n",
       "    </tr>\n",
       "    <tr>\n",
       "      <th>1</th>\n",
       "      <td>bn:02412128n</td>\n",
       "      <td>[A tournament-style downhill speed skiing comp...</td>\n",
       "      <td>WIKI:EN:Ski_cross</td>\n",
       "      <td>[Skiercross, skiercross, Skier-X, Skicross, Sk...</td>\n",
       "      <td>[da045aff0cc2a22d5f34df67e3ee066c906ae1d5, 494...</td>\n",
       "    </tr>\n",
       "    <tr>\n",
       "      <th>2</th>\n",
       "      <td>bn:15049822n</td>\n",
       "      <td>[The currency of Bermuda., Currency, The Bermu...</td>\n",
       "      <td>WIKI:EN:Bermudian_dollar</td>\n",
       "      <td>[Bermudian_Dollar, Bermuda_dollar, Bermudian_d...</td>\n",
       "      <td>[6f9080eb62d0eb21ab96d0d9e5527da626149868, 3b1...</td>\n",
       "    </tr>\n",
       "    <tr>\n",
       "      <th>3</th>\n",
       "      <td>bn:03603146n</td>\n",
       "      <td>[Grenade launcher, The HK69A1 is a 40 mm grena...</td>\n",
       "      <td>WIKI:EN:Heckler_&amp;_Koch_HK69A1</td>\n",
       "      <td>[HK_79, Heckler_&amp;_Koch_HK79A1, Heckler_&amp;_Koch_...</td>\n",
       "      <td>[2a7f31a15c0f90e994711afe1fbd2b17905c30dc, d76...</td>\n",
       "    </tr>\n",
       "    <tr>\n",
       "      <th>4</th>\n",
       "      <td>bn:03725374n</td>\n",
       "      <td>[The Jerusalem District is one of six administ...</td>\n",
       "      <td>GEONM:EN:Jerusalem_District</td>\n",
       "      <td>[Jerusalem, Al_Quds_District, Jerusalem_Distri...</td>\n",
       "      <td>[28df9a413a48cd25f53ad773c7605f995c09b1bc, c99...</td>\n",
       "    </tr>\n",
       "  </tbody>\n",
       "</table>\n",
       "</div>"
      ],
      "text/plain": [
       "    node_id_str                                                 gl  \\\n",
       "0  bn:00073045n  [A portable heating appliance used to warm an ...   \n",
       "1  bn:02412128n  [A tournament-style downhill speed skiing comp...   \n",
       "2  bn:15049822n  [The currency of Bermuda., Currency, The Bermu...   \n",
       "3  bn:03603146n  [Grenade launcher, The HK69A1 is a 40 mm grena...   \n",
       "4  bn:03725374n  [The Jerusalem District is one of six administ...   \n",
       "\n",
       "                              ms  \\\n",
       "0             WN:EN:space_heater   \n",
       "1              WIKI:EN:Ski_cross   \n",
       "2       WIKI:EN:Bermudian_dollar   \n",
       "3  WIKI:EN:Heckler_&_Koch_HK69A1   \n",
       "4    GEONM:EN:Jerusalem_District   \n",
       "\n",
       "                                                  se  \\\n",
       "0         [Space_heating, Spaceheater, space_heater]   \n",
       "1  [Skiercross, skiercross, Skier-X, Skicross, Sk...   \n",
       "2  [Bermudian_Dollar, Bermuda_dollar, Bermudian_d...   \n",
       "3  [HK_79, Heckler_&_Koch_HK79A1, Heckler_&_Koch_...   \n",
       "4  [Jerusalem, Al_Quds_District, Jerusalem_Distri...   \n",
       "\n",
       "                                                 ims  \n",
       "0  [b3b7f9023408b19fec70e883030fc730181dc67c, 33e...  \n",
       "1  [da045aff0cc2a22d5f34df67e3ee066c906ae1d5, 494...  \n",
       "2  [6f9080eb62d0eb21ab96d0d9e5527da626149868, 3b1...  \n",
       "3  [2a7f31a15c0f90e994711afe1fbd2b17905c30dc, d76...  \n",
       "4  [28df9a413a48cd25f53ad773c7605f995c09b1bc, c99...  "
      ]
     },
     "execution_count": 8,
     "metadata": {},
     "output_type": "execute_result"
    }
   ],
   "source": [
    "df_node.head()"
   ]
  },
  {
   "cell_type": "code",
   "execution_count": 9,
   "metadata": {},
   "outputs": [
    {
     "data": {
      "text/plain": [
       "False"
      ]
     },
     "execution_count": 9,
     "metadata": {},
     "output_type": "execute_result"
    }
   ],
   "source": [
    "df_node.se.isnull().values.any()"
   ]
  },
  {
   "cell_type": "code",
   "execution_count": 10,
   "metadata": {},
   "outputs": [
    {
     "data": {
      "text/plain": [
       "False"
      ]
     },
     "execution_count": 10,
     "metadata": {},
     "output_type": "execute_result"
    }
   ],
   "source": [
    "df_node.gl.isnull().values.any()"
   ]
  },
  {
   "cell_type": "code",
   "execution_count": 11,
   "metadata": {},
   "outputs": [],
   "source": [
    "#flatten edge dataframe\n",
    "from pandas.io.json import json_normalize\n",
    "df_edges = pd.DataFrame.from_dict(dataset_edges.items())\n",
    "df_edges.columns = ['node_id_str','features']"
   ]
  },
  {
   "cell_type": "code",
   "execution_count": 12,
   "metadata": {},
   "outputs": [
    {
     "data": {
      "text/html": [
       "<div>\n",
       "<style scoped>\n",
       "    .dataframe tbody tr th:only-of-type {\n",
       "        vertical-align: middle;\n",
       "    }\n",
       "\n",
       "    .dataframe tbody tr th {\n",
       "        vertical-align: top;\n",
       "    }\n",
       "\n",
       "    .dataframe thead th {\n",
       "        text-align: right;\n",
       "    }\n",
       "</style>\n",
       "<table border=\"1\" class=\"dataframe\">\n",
       "  <thead>\n",
       "    <tr style=\"text-align: right;\">\n",
       "      <th></th>\n",
       "      <th>node_id_str</th>\n",
       "      <th>features</th>\n",
       "    </tr>\n",
       "  </thead>\n",
       "  <tbody>\n",
       "    <tr>\n",
       "      <th>0</th>\n",
       "      <td>bn:00046576n</td>\n",
       "      <td>[{'s': 'bn:03760212n', 'r': 'RelatedTo', 'r_id...</td>\n",
       "    </tr>\n",
       "    <tr>\n",
       "      <th>1</th>\n",
       "      <td>bn:00033022n</td>\n",
       "      <td>[{'s': 'bn:00023394n', 'r': 'RelatedTo', 'r_id...</td>\n",
       "    </tr>\n",
       "    <tr>\n",
       "      <th>2</th>\n",
       "      <td>bn:17006187n</td>\n",
       "      <td>[{'s': 'bn:03547708n', 'r': 'RelatedTo', 'r_id...</td>\n",
       "    </tr>\n",
       "    <tr>\n",
       "      <th>3</th>\n",
       "      <td>bn:00047705n</td>\n",
       "      <td>[{'s': 'bn:00066209n', 'r': 'RelatedTo', 'r_id...</td>\n",
       "    </tr>\n",
       "    <tr>\n",
       "      <th>4</th>\n",
       "      <td>bn:00009459n</td>\n",
       "      <td>[{'s': 'bn:03722869n', 'r': 'RelatedTo', 'r_id...</td>\n",
       "    </tr>\n",
       "  </tbody>\n",
       "</table>\n",
       "</div>"
      ],
      "text/plain": [
       "    node_id_str                                           features\n",
       "0  bn:00046576n  [{'s': 'bn:03760212n', 'r': 'RelatedTo', 'r_id...\n",
       "1  bn:00033022n  [{'s': 'bn:00023394n', 'r': 'RelatedTo', 'r_id...\n",
       "2  bn:17006187n  [{'s': 'bn:03547708n', 'r': 'RelatedTo', 'r_id...\n",
       "3  bn:00047705n  [{'s': 'bn:00066209n', 'r': 'RelatedTo', 'r_id...\n",
       "4  bn:00009459n  [{'s': 'bn:03722869n', 'r': 'RelatedTo', 'r_id..."
      ]
     },
     "execution_count": 12,
     "metadata": {},
     "output_type": "execute_result"
    }
   ],
   "source": [
    "df_edges.head()"
   ]
  },
  {
   "cell_type": "code",
   "execution_count": 13,
   "metadata": {},
   "outputs": [],
   "source": [
    "#get flatten edge df\n",
    "df_list = []\n",
    "for index, row in df_edges.iterrows():\n",
    "    df_raw = json_normalize(row['features'])\n",
    "    df_raw['node_id_str'] = row['node_id_str']\n",
    "    df_list.append(df_raw)\n",
    "df_edges_all = pd.concat(df_list, ignore_index=True)"
   ]
  },
  {
   "cell_type": "code",
   "execution_count": 14,
   "metadata": {},
   "outputs": [
    {
     "data": {
      "text/html": [
       "<div>\n",
       "<style scoped>\n",
       "    .dataframe tbody tr th:only-of-type {\n",
       "        vertical-align: middle;\n",
       "    }\n",
       "\n",
       "    .dataframe tbody tr th {\n",
       "        vertical-align: top;\n",
       "    }\n",
       "\n",
       "    .dataframe thead th {\n",
       "        text-align: right;\n",
       "    }\n",
       "</style>\n",
       "<table border=\"1\" class=\"dataframe\">\n",
       "  <thead>\n",
       "    <tr style=\"text-align: right;\">\n",
       "      <th></th>\n",
       "      <th>s</th>\n",
       "      <th>r</th>\n",
       "      <th>r_id</th>\n",
       "      <th>node_id_str</th>\n",
       "    </tr>\n",
       "  </thead>\n",
       "  <tbody>\n",
       "    <tr>\n",
       "      <th>0</th>\n",
       "      <td>bn:03760212n</td>\n",
       "      <td>RelatedTo</td>\n",
       "      <td>133</td>\n",
       "      <td>bn:00046576n</td>\n",
       "    </tr>\n",
       "    <tr>\n",
       "      <th>1</th>\n",
       "      <td>bn:03237118n</td>\n",
       "      <td>RelatedTo</td>\n",
       "      <td>209</td>\n",
       "      <td>bn:00046576n</td>\n",
       "    </tr>\n",
       "    <tr>\n",
       "      <th>2</th>\n",
       "      <td>bn:02057488n</td>\n",
       "      <td>RelatedTo</td>\n",
       "      <td>352</td>\n",
       "      <td>bn:00046576n</td>\n",
       "    </tr>\n",
       "    <tr>\n",
       "      <th>3</th>\n",
       "      <td>bn:00013153n</td>\n",
       "      <td>RelatedTo</td>\n",
       "      <td>146</td>\n",
       "      <td>bn:00046576n</td>\n",
       "    </tr>\n",
       "    <tr>\n",
       "      <th>4</th>\n",
       "      <td>bn:00076121n</td>\n",
       "      <td>RelatedTo</td>\n",
       "      <td>324</td>\n",
       "      <td>bn:00046576n</td>\n",
       "    </tr>\n",
       "  </tbody>\n",
       "</table>\n",
       "</div>"
      ],
      "text/plain": [
       "              s          r  r_id   node_id_str\n",
       "0  bn:03760212n  RelatedTo   133  bn:00046576n\n",
       "1  bn:03237118n  RelatedTo   209  bn:00046576n\n",
       "2  bn:02057488n  RelatedTo   352  bn:00046576n\n",
       "3  bn:00013153n  RelatedTo   146  bn:00046576n\n",
       "4  bn:00076121n  RelatedTo   324  bn:00046576n"
      ]
     },
     "execution_count": 14,
     "metadata": {},
     "output_type": "execute_result"
    }
   ],
   "source": [
    "df_edges_all.head()"
   ]
  },
  {
   "cell_type": "code",
   "execution_count": 15,
   "metadata": {},
   "outputs": [
    {
     "data": {
      "text/plain": [
       "(1901531, 4)"
      ]
     },
     "execution_count": 15,
     "metadata": {},
     "output_type": "execute_result"
    }
   ],
   "source": [
    "df_edges_all.shape"
   ]
  },
  {
   "cell_type": "code",
   "execution_count": 16,
   "metadata": {},
   "outputs": [],
   "source": [
    "#Get list of unique nodes ID (both source and destination)\n",
    "first_list = df_edges_all.node_id_str.unique().tolist()\n",
    "second_list = df_edges_all.s.unique().tolist()\n",
    "unique_nodes = first_list + list(set(second_list) - set(first_list))"
   ]
  },
  {
   "cell_type": "code",
   "execution_count": 17,
   "metadata": {
    "scrolled": true
   },
   "outputs": [
    {
     "data": {
      "text/plain": [
       "(100337, 67900, 101244)"
      ]
     },
     "execution_count": 17,
     "metadata": {},
     "output_type": "execute_result"
    }
   ],
   "source": [
    "len(first_list), len(second_list), len(unique_nodes)"
   ]
  },
  {
   "cell_type": "code",
   "execution_count": 18,
   "metadata": {},
   "outputs": [],
   "source": [
    "#create dictionary look up for string to numeric ID\n",
    "node_num_dict = {node:i for i, node in enumerate(unique_nodes)}"
   ]
  },
  {
   "cell_type": "code",
   "execution_count": 28,
   "metadata": {},
   "outputs": [
    {
     "data": {
      "text/plain": [
       "101244"
      ]
     },
     "execution_count": 28,
     "metadata": {},
     "output_type": "execute_result"
    }
   ],
   "source": [
    "len(node_num_dict.keys())"
   ]
  },
  {
   "cell_type": "code",
   "execution_count": 19,
   "metadata": {},
   "outputs": [],
   "source": [
    "#create dictionary look up for edgetype\n",
    "edge_type_num_dict = {edge:i for i, edge in enumerate(df_edges_all.r.unique())}"
   ]
  },
  {
   "cell_type": "code",
   "execution_count": 20,
   "metadata": {},
   "outputs": [],
   "source": [
    "#create dictionary look up for edge_id\n",
    "edge_id_dict = {edge:i for i, edge in enumerate(df_edges_all.r_id.unique())}"
   ]
  },
  {
   "cell_type": "code",
   "execution_count": 26,
   "metadata": {},
   "outputs": [],
   "source": [
    "#save ref dict\n",
    "save_dict = {'node_num':node_num_dict,\n",
    "            'edge_type_num':edge_type_num_dict,\n",
    "            'edge_id':edge_id_dict }"
   ]
  },
  {
   "cell_type": "code",
   "execution_count": 27,
   "metadata": {},
   "outputs": [],
   "source": [
    "pickle.dump(save_dict, open( \"ref_dict.pkl\", \"wb\" ) )"
   ]
  },
  {
   "cell_type": "code",
   "execution_count": 19,
   "metadata": {},
   "outputs": [],
   "source": [
    "#helper functions\n",
    "def node_id_num(row):\n",
    "    return node_num_dict.get(row.node_id_str)\n",
    "\n",
    "def to_nodes_list(row):\n",
    "    return [node_num_dict.get(item['s']) for item in row.features]  \n",
    "\n",
    "def edge_types_list(row):\n",
    "    return [edge_type_num_dict.get(item['r']) for item in row.features]\n",
    "\n",
    "def edge_ids_list(row):\n",
    "    return [item['r_id'] for item in row.features]"
   ]
  },
  {
   "cell_type": "code",
   "execution_count": 20,
   "metadata": {},
   "outputs": [],
   "source": [
    "#strip features dict into: to_nodes; edge_type; edge_id\n",
    "df_edges['node_id'] = df_edges.apply(lambda row: node_id_num(row),axis=1)\n",
    "df_edges['to_nodes'] = df_edges.apply (lambda row: to_nodes_list(row), axis=1)\n",
    "df_edges['edge_types'] = df_edges.apply (lambda row: edge_types_list(row),axis=1)\n",
    "df_edges['edge_id'] = df_edges.apply (lambda row: edge_ids_list(row),axis=1)"
   ]
  },
  {
   "cell_type": "code",
   "execution_count": 21,
   "metadata": {},
   "outputs": [],
   "source": [
    "#sort by node_id column, so later adding graph node features will have the same ordering\n",
    "df_edges = df_edges.sort_values(by=['node_id'])"
   ]
  },
  {
   "cell_type": "code",
   "execution_count": 22,
   "metadata": {},
   "outputs": [
    {
     "data": {
      "text/html": [
       "<div>\n",
       "<style scoped>\n",
       "    .dataframe tbody tr th:only-of-type {\n",
       "        vertical-align: middle;\n",
       "    }\n",
       "\n",
       "    .dataframe tbody tr th {\n",
       "        vertical-align: top;\n",
       "    }\n",
       "\n",
       "    .dataframe thead th {\n",
       "        text-align: right;\n",
       "    }\n",
       "</style>\n",
       "<table border=\"1\" class=\"dataframe\">\n",
       "  <thead>\n",
       "    <tr style=\"text-align: right;\">\n",
       "      <th></th>\n",
       "      <th>node_id_str</th>\n",
       "      <th>features</th>\n",
       "      <th>node_id</th>\n",
       "      <th>to_nodes</th>\n",
       "      <th>edge_types</th>\n",
       "      <th>edge_id</th>\n",
       "    </tr>\n",
       "  </thead>\n",
       "  <tbody>\n",
       "    <tr>\n",
       "      <th>0</th>\n",
       "      <td>bn:00046576n</td>\n",
       "      <td>[{'s': 'bn:03760212n', 'r': 'RelatedTo', 'r_id...</td>\n",
       "      <td>0</td>\n",
       "      <td>[69282, 20318, 82276, 10181, 10825, 15633, 380...</td>\n",
       "      <td>[0, 0, 0, 0, 0, 0, 0, 0, 0, 0, 0, 0, 0, 0, 0, ...</td>\n",
       "      <td>[133, 209, 352, 146, 324, 325, 347, 251, 235, ...</td>\n",
       "    </tr>\n",
       "    <tr>\n",
       "      <th>1</th>\n",
       "      <td>bn:00033022n</td>\n",
       "      <td>[{'s': 'bn:00023394n', 'r': 'RelatedTo', 'r_id...</td>\n",
       "      <td>1</td>\n",
       "      <td>[31253, 87835, 16212, 69742, 16219, 37192, 362...</td>\n",
       "      <td>[0, 0, 0, 0, 0, 0, 0, 3, 0, 0, 0, 0, 0, 3, 0, ...</td>\n",
       "      <td>[611, 601, 604, 627, 630, 632, 599, 622, 615, ...</td>\n",
       "    </tr>\n",
       "    <tr>\n",
       "      <th>2</th>\n",
       "      <td>bn:17006187n</td>\n",
       "      <td>[{'s': 'bn:03547708n', 'r': 'RelatedTo', 'r_id...</td>\n",
       "      <td>2</td>\n",
       "      <td>[30114, 81120, 37191, 98401, 29384, 33029, 342...</td>\n",
       "      <td>[0, 0, 0, 0, 0, 0, 0, 0, 0, 0, 0, 0, 0, 0, 0, ...</td>\n",
       "      <td>[1791, 1870, 1824, 1832, 1834, 1899, 1885, 179...</td>\n",
       "    </tr>\n",
       "    <tr>\n",
       "      <th>3</th>\n",
       "      <td>bn:00047705n</td>\n",
       "      <td>[{'s': 'bn:00066209n', 'r': 'RelatedTo', 'r_id...</td>\n",
       "      <td>3</td>\n",
       "      <td>[17387, 59853, 9229, 5687, 20471, 62161, 86316...</td>\n",
       "      <td>[0, 0, 3, 6, 0, 0, 0, 0, 0, 0, 0, 0, 0, 1, 0, ...</td>\n",
       "      <td>[2832, 2565, 3405, 1910, 2769, 3710, 4466, 263...</td>\n",
       "    </tr>\n",
       "    <tr>\n",
       "      <th>4</th>\n",
       "      <td>bn:00009459n</td>\n",
       "      <td>[{'s': 'bn:03722869n', 'r': 'RelatedTo', 'r_id...</td>\n",
       "      <td>4</td>\n",
       "      <td>[68051, 74827, 85951, 15512, 100321, 66043, 12...</td>\n",
       "      <td>[0, 0, 0, 0, 0, 0, 0, 0, 0, 0, 0, 0, 0, 0, 0, ...</td>\n",
       "      <td>[4713, 4659, 4746, 4712, 4591, 4599, 4852, 466...</td>\n",
       "    </tr>\n",
       "  </tbody>\n",
       "</table>\n",
       "</div>"
      ],
      "text/plain": [
       "    node_id_str                                           features  node_id  \\\n",
       "0  bn:00046576n  [{'s': 'bn:03760212n', 'r': 'RelatedTo', 'r_id...        0   \n",
       "1  bn:00033022n  [{'s': 'bn:00023394n', 'r': 'RelatedTo', 'r_id...        1   \n",
       "2  bn:17006187n  [{'s': 'bn:03547708n', 'r': 'RelatedTo', 'r_id...        2   \n",
       "3  bn:00047705n  [{'s': 'bn:00066209n', 'r': 'RelatedTo', 'r_id...        3   \n",
       "4  bn:00009459n  [{'s': 'bn:03722869n', 'r': 'RelatedTo', 'r_id...        4   \n",
       "\n",
       "                                            to_nodes  \\\n",
       "0  [69282, 20318, 82276, 10181, 10825, 15633, 380...   \n",
       "1  [31253, 87835, 16212, 69742, 16219, 37192, 362...   \n",
       "2  [30114, 81120, 37191, 98401, 29384, 33029, 342...   \n",
       "3  [17387, 59853, 9229, 5687, 20471, 62161, 86316...   \n",
       "4  [68051, 74827, 85951, 15512, 100321, 66043, 12...   \n",
       "\n",
       "                                          edge_types  \\\n",
       "0  [0, 0, 0, 0, 0, 0, 0, 0, 0, 0, 0, 0, 0, 0, 0, ...   \n",
       "1  [0, 0, 0, 0, 0, 0, 0, 3, 0, 0, 0, 0, 0, 3, 0, ...   \n",
       "2  [0, 0, 0, 0, 0, 0, 0, 0, 0, 0, 0, 0, 0, 0, 0, ...   \n",
       "3  [0, 0, 3, 6, 0, 0, 0, 0, 0, 0, 0, 0, 0, 1, 0, ...   \n",
       "4  [0, 0, 0, 0, 0, 0, 0, 0, 0, 0, 0, 0, 0, 0, 0, ...   \n",
       "\n",
       "                                             edge_id  \n",
       "0  [133, 209, 352, 146, 324, 325, 347, 251, 235, ...  \n",
       "1  [611, 601, 604, 627, 630, 632, 599, 622, 615, ...  \n",
       "2  [1791, 1870, 1824, 1832, 1834, 1899, 1885, 179...  \n",
       "3  [2832, 2565, 3405, 1910, 2769, 3710, 4466, 263...  \n",
       "4  [4713, 4659, 4746, 4712, 4591, 4599, 4852, 466...  "
      ]
     },
     "execution_count": 22,
     "metadata": {},
     "output_type": "execute_result"
    }
   ],
   "source": [
    "df_edges.head()"
   ]
  },
  {
   "cell_type": "code",
   "execution_count": 23,
   "metadata": {},
   "outputs": [
    {
     "data": {
      "text/plain": [
       "(100337, 6)"
      ]
     },
     "execution_count": 23,
     "metadata": {},
     "output_type": "execute_result"
    }
   ],
   "source": [
    "df_edges.shape"
   ]
  },
  {
   "cell_type": "code",
   "execution_count": 24,
   "metadata": {},
   "outputs": [],
   "source": [
    "#assign same numeric id to node_df\n",
    "df_node['node_id'] = df_node.apply(lambda row: node_id_num(row),axis=1)"
   ]
  },
  {
   "cell_type": "code",
   "execution_count": 25,
   "metadata": {},
   "outputs": [],
   "source": [
    "#join edge_df with node_df\n",
    "join_df = pd.merge(df_edges,df_node, how='left', on='node_id')"
   ]
  },
  {
   "cell_type": "code",
   "execution_count": 4,
   "metadata": {},
   "outputs": [
    {
     "data": {
      "text/plain": [
       "(100337, 11)"
      ]
     },
     "execution_count": 4,
     "metadata": {},
     "output_type": "execute_result"
    }
   ],
   "source": [
    "join_df.shape"
   ]
  },
  {
   "cell_type": "code",
   "execution_count": 31,
   "metadata": {},
   "outputs": [
    {
     "data": {
      "text/plain": [
       "1901531"
      ]
     },
     "execution_count": 31,
     "metadata": {},
     "output_type": "execute_result"
    }
   ],
   "source": [
    "edge_list = join_df.edge_types.tolist()\n",
    "sum([len(item) for item in edge_list])"
   ]
  },
  {
   "cell_type": "code",
   "execution_count": 32,
   "metadata": {},
   "outputs": [],
   "source": [
    "edge_feat = np.array([elem for item in edge_list for elem in item])"
   ]
  },
  {
   "cell_type": "code",
   "execution_count": 41,
   "metadata": {},
   "outputs": [
    {
     "name": "stdout",
     "output_type": "stream",
     "text": [
      "[      9      10      34     165     635     677    1441   15718   23535\n",
      "   66935  111276  115260 1565836]\n"
     ]
    }
   ],
   "source": [
    "print((np.sort(np.bincount(edge_feat)),))"
   ]
  },
  {
   "cell_type": "code",
   "execution_count": 35,
   "metadata": {},
   "outputs": [
    {
     "data": {
      "text/html": [
       "<div>\n",
       "<style scoped>\n",
       "    .dataframe tbody tr th:only-of-type {\n",
       "        vertical-align: middle;\n",
       "    }\n",
       "\n",
       "    .dataframe tbody tr th {\n",
       "        vertical-align: top;\n",
       "    }\n",
       "\n",
       "    .dataframe thead th {\n",
       "        text-align: right;\n",
       "    }\n",
       "</style>\n",
       "<table border=\"1\" class=\"dataframe\">\n",
       "  <thead>\n",
       "    <tr style=\"text-align: right;\">\n",
       "      <th></th>\n",
       "      <th>node_id_str_x</th>\n",
       "      <th>features</th>\n",
       "      <th>node_id</th>\n",
       "      <th>to_nodes</th>\n",
       "      <th>edge_types</th>\n",
       "      <th>edge_id</th>\n",
       "      <th>node_id_str_y</th>\n",
       "      <th>gl</th>\n",
       "      <th>ms</th>\n",
       "      <th>se</th>\n",
       "      <th>ims</th>\n",
       "    </tr>\n",
       "  </thead>\n",
       "  <tbody>\n",
       "    <tr>\n",
       "      <th>0</th>\n",
       "      <td>bn:00046576n</td>\n",
       "      <td>[{'s': 'bn:03760212n', 'r': 'RelatedTo', 'r_id...</td>\n",
       "      <td>0</td>\n",
       "      <td>[69282, 20318, 82276, 10181, 10825, 15633, 380...</td>\n",
       "      <td>[0, 0, 0, 0, 0, 0, 0, 0, 0, 0, 0, 0, 0, 0, 0, ...</td>\n",
       "      <td>[133, 209, 352, 146, 324, 325, 347, 251, 235, ...</td>\n",
       "      <td>bn:00046576n</td>\n",
       "      <td>[Industry is the production of goods or relate...</td>\n",
       "      <td>WN:EN:industry</td>\n",
       "      <td>[Industrial_activity, Industries, IndustrY, Su...</td>\n",
       "      <td>[2a350e80122cb5cbeaf3830d915623edcbfee1e1, 4d5...</td>\n",
       "    </tr>\n",
       "    <tr>\n",
       "      <th>1</th>\n",
       "      <td>bn:00033022n</td>\n",
       "      <td>[{'s': 'bn:00023394n', 'r': 'RelatedTo', 'r_id...</td>\n",
       "      <td>1</td>\n",
       "      <td>[31253, 87835, 16212, 69742, 16219, 37192, 362...</td>\n",
       "      <td>[0, 0, 0, 0, 0, 0, 0, 3, 0, 0, 0, 0, 0, 3, 0, ...</td>\n",
       "      <td>[611, 601, 604, 627, 630, 632, 599, 622, 615, ...</td>\n",
       "      <td>bn:00033022n</td>\n",
       "      <td>[Family of fishes, Any member of the Lamnidae....</td>\n",
       "      <td>WN:EN:family_Isuridae</td>\n",
       "      <td>[lamnid, white_sharks, mackerel_sharks, Isurid...</td>\n",
       "      <td>[63fe1fd039a8ccfe02f95cc0a7cb680deb891426, f85...</td>\n",
       "    </tr>\n",
       "    <tr>\n",
       "      <th>2</th>\n",
       "      <td>bn:17006187n</td>\n",
       "      <td>[{'s': 'bn:03547708n', 'r': 'RelatedTo', 'r_id...</td>\n",
       "      <td>2</td>\n",
       "      <td>[30114, 81120, 37191, 98401, 29384, 33029, 342...</td>\n",
       "      <td>[0, 0, 0, 0, 0, 0, 0, 0, 0, 0, 0, 0, 0, 0, 0, ...</td>\n",
       "      <td>[1791, 1870, 1824, 1832, 1834, 1899, 1885, 179...</td>\n",
       "      <td>bn:17006187n</td>\n",
       "      <td>[A near-threatened species is a species which ...</td>\n",
       "      <td>WIKIDATA:EN:LR/nt</td>\n",
       "      <td>[near_threatened, Near-threatened, NT, Near_Th...</td>\n",
       "      <td>[b24e142a50e1b68dc888c0cb8fe5df853e7a1356, 68f...</td>\n",
       "    </tr>\n",
       "    <tr>\n",
       "      <th>3</th>\n",
       "      <td>bn:00047705n</td>\n",
       "      <td>[{'s': 'bn:00066209n', 'r': 'RelatedTo', 'r_id...</td>\n",
       "      <td>3</td>\n",
       "      <td>[17387, 59853, 9229, 5687, 20471, 62161, 86316...</td>\n",
       "      <td>[0, 0, 3, 6, 0, 0, 0, 0, 0, 0, 0, 0, 0, 1, 0, ...</td>\n",
       "      <td>[2832, 2565, 3405, 1910, 2769, 3710, 4466, 263...</td>\n",
       "      <td>bn:00047705n</td>\n",
       "      <td>[Italy is a unitary parliamentary republic in ...</td>\n",
       "      <td>WN:EN:Italy</td>\n",
       "      <td>[IT, Austrian_Empire_(Italy), The_Italian_repu...</td>\n",
       "      <td>[60c41e2fc8a1a185c7842a05ffc1212da712be09, 953...</td>\n",
       "    </tr>\n",
       "    <tr>\n",
       "      <th>4</th>\n",
       "      <td>bn:00009459n</td>\n",
       "      <td>[{'s': 'bn:03722869n', 'r': 'RelatedTo', 'r_id...</td>\n",
       "      <td>4</td>\n",
       "      <td>[68051, 74827, 85951, 15512, 100321, 66043, 12...</td>\n",
       "      <td>[0, 0, 0, 0, 0, 0, 0, 0, 0, 0, 0, 0, 0, 0, 0, ...</td>\n",
       "      <td>[4713, 4659, 4746, 4712, 4591, 4599, 4852, 466...</td>\n",
       "      <td>bn:00009459n</td>\n",
       "      <td>[A northwestern state of the United States of ...</td>\n",
       "      <td>WN:EN:Oregon</td>\n",
       "      <td>[Oregón, Oregon_(State), Oregon_(U.S._state), ...</td>\n",
       "      <td>[80143c1ccf29d5fc2480b544d2a71d4f2ef668ff, 125...</td>\n",
       "    </tr>\n",
       "  </tbody>\n",
       "</table>\n",
       "</div>"
      ],
      "text/plain": [
       "  node_id_str_x                                           features  node_id  \\\n",
       "0  bn:00046576n  [{'s': 'bn:03760212n', 'r': 'RelatedTo', 'r_id...        0   \n",
       "1  bn:00033022n  [{'s': 'bn:00023394n', 'r': 'RelatedTo', 'r_id...        1   \n",
       "2  bn:17006187n  [{'s': 'bn:03547708n', 'r': 'RelatedTo', 'r_id...        2   \n",
       "3  bn:00047705n  [{'s': 'bn:00066209n', 'r': 'RelatedTo', 'r_id...        3   \n",
       "4  bn:00009459n  [{'s': 'bn:03722869n', 'r': 'RelatedTo', 'r_id...        4   \n",
       "\n",
       "                                            to_nodes  \\\n",
       "0  [69282, 20318, 82276, 10181, 10825, 15633, 380...   \n",
       "1  [31253, 87835, 16212, 69742, 16219, 37192, 362...   \n",
       "2  [30114, 81120, 37191, 98401, 29384, 33029, 342...   \n",
       "3  [17387, 59853, 9229, 5687, 20471, 62161, 86316...   \n",
       "4  [68051, 74827, 85951, 15512, 100321, 66043, 12...   \n",
       "\n",
       "                                          edge_types  \\\n",
       "0  [0, 0, 0, 0, 0, 0, 0, 0, 0, 0, 0, 0, 0, 0, 0, ...   \n",
       "1  [0, 0, 0, 0, 0, 0, 0, 3, 0, 0, 0, 0, 0, 3, 0, ...   \n",
       "2  [0, 0, 0, 0, 0, 0, 0, 0, 0, 0, 0, 0, 0, 0, 0, ...   \n",
       "3  [0, 0, 3, 6, 0, 0, 0, 0, 0, 0, 0, 0, 0, 1, 0, ...   \n",
       "4  [0, 0, 0, 0, 0, 0, 0, 0, 0, 0, 0, 0, 0, 0, 0, ...   \n",
       "\n",
       "                                             edge_id node_id_str_y  \\\n",
       "0  [133, 209, 352, 146, 324, 325, 347, 251, 235, ...  bn:00046576n   \n",
       "1  [611, 601, 604, 627, 630, 632, 599, 622, 615, ...  bn:00033022n   \n",
       "2  [1791, 1870, 1824, 1832, 1834, 1899, 1885, 179...  bn:17006187n   \n",
       "3  [2832, 2565, 3405, 1910, 2769, 3710, 4466, 263...  bn:00047705n   \n",
       "4  [4713, 4659, 4746, 4712, 4591, 4599, 4852, 466...  bn:00009459n   \n",
       "\n",
       "                                                  gl                     ms  \\\n",
       "0  [Industry is the production of goods or relate...         WN:EN:industry   \n",
       "1  [Family of fishes, Any member of the Lamnidae....  WN:EN:family_Isuridae   \n",
       "2  [A near-threatened species is a species which ...      WIKIDATA:EN:LR/nt   \n",
       "3  [Italy is a unitary parliamentary republic in ...            WN:EN:Italy   \n",
       "4  [A northwestern state of the United States of ...           WN:EN:Oregon   \n",
       "\n",
       "                                                  se  \\\n",
       "0  [Industrial_activity, Industries, IndustrY, Su...   \n",
       "1  [lamnid, white_sharks, mackerel_sharks, Isurid...   \n",
       "2  [near_threatened, Near-threatened, NT, Near_Th...   \n",
       "3  [IT, Austrian_Empire_(Italy), The_Italian_repu...   \n",
       "4  [Oregón, Oregon_(State), Oregon_(U.S._state), ...   \n",
       "\n",
       "                                                 ims  \n",
       "0  [2a350e80122cb5cbeaf3830d915623edcbfee1e1, 4d5...  \n",
       "1  [63fe1fd039a8ccfe02f95cc0a7cb680deb891426, f85...  \n",
       "2  [b24e142a50e1b68dc888c0cb8fe5df853e7a1356, 68f...  \n",
       "3  [60c41e2fc8a1a185c7842a05ffc1212da712be09, 953...  \n",
       "4  [80143c1ccf29d5fc2480b544d2a71d4f2ef668ff, 125...  "
      ]
     },
     "execution_count": 35,
     "metadata": {},
     "output_type": "execute_result"
    }
   ],
   "source": [
    "join_df.head()"
   ]
  },
  {
   "cell_type": "code",
   "execution_count": 33,
   "metadata": {},
   "outputs": [],
   "source": [
    "#save result\n",
    "join_df.to_pickle(\"./join_df.pkl\")"
   ]
  },
  {
   "cell_type": "markdown",
   "metadata": {},
   "source": [
    "### DGL: create graph"
   ]
  },
  {
   "cell_type": "code",
   "execution_count": 3,
   "metadata": {},
   "outputs": [],
   "source": [
    "join_df = pickle.load(open( \"./join_df.pkl\", \"rb\" ) )"
   ]
  },
  {
   "cell_type": "code",
   "execution_count": 13,
   "metadata": {},
   "outputs": [
    {
     "data": {
      "text/plain": [
       "False"
      ]
     },
     "execution_count": 13,
     "metadata": {},
     "output_type": "execute_result"
    }
   ],
   "source": [
    "join_df.gl.isnull().values.any()"
   ]
  },
  {
   "cell_type": "code",
   "execution_count": 35,
   "metadata": {},
   "outputs": [
    {
     "name": "stdout",
     "output_type": "stream",
     "text": [
      "CPU times: user 19.6 s, sys: 160 ms, total: 19.7 s\n",
      "Wall time: 19.7 s\n"
     ]
    }
   ],
   "source": [
    "%%time\n",
    "#node_num_dict: 101244\n",
    "G = build_graph(join_df, num_nodes=101244,directed=True,edge_feat=False)"
   ]
  },
  {
   "cell_type": "code",
   "execution_count": 4,
   "metadata": {},
   "outputs": [
    {
     "name": "stdout",
     "output_type": "stream",
     "text": [
      "1901531\n",
      "1901531\n",
      "adding edge features\n",
      "CPU times: user 20.3 s, sys: 498 ms, total: 20.8 s\n",
      "Wall time: 20.8 s\n"
     ]
    }
   ],
   "source": [
    "%%time\n",
    "#node_num_dict: 101244\n",
    "G = build_graph(join_df, num_nodes=101244,directed=True,edge_feat=True)"
   ]
  },
  {
   "cell_type": "code",
   "execution_count": 6,
   "metadata": {},
   "outputs": [
    {
     "name": "stdout",
     "output_type": "stream",
     "text": [
      "DGLGraph(num_nodes=101244, num_edges=1901531,\n",
      "         ndata_schemes={}\n",
      "         edata_schemes={'type': Scheme(shape=(1,), dtype=torch.int64)})\n"
     ]
    }
   ],
   "source": [
    "print(G)"
   ]
  },
  {
   "cell_type": "code",
   "execution_count": 8,
   "metadata": {},
   "outputs": [
    {
     "data": {
      "text/plain": [
       "tensor([[6],\n",
       "        [2],\n",
       "        [3]])"
      ]
     },
     "execution_count": 8,
     "metadata": {},
     "output_type": "execute_result"
    }
   ],
   "source": [
    "G.edges[3, 9229].data['type']"
   ]
  },
  {
   "cell_type": "code",
   "execution_count": 29,
   "metadata": {},
   "outputs": [
    {
     "name": "stdout",
     "output_type": "stream",
     "text": [
      "In-degree Median/Max/Min: tensor(18.7817) tensor(122.) tensor(0.)\n",
      "Out-degree Median/Max/Min: tensor(6.) tensor(8643.) tensor(0.)\n"
     ]
    }
   ],
   "source": [
    "# graph statistics:\n",
    "# IN-DEGREE:\n",
    "G_ind = G.in_degrees().float()\n",
    "print(\"In-degree Median/Max/Min:\", G_ind.mean(), G_ind.max(), G_ind.min())\n",
    "# OUT-DEGREE:\n",
    "G_out = G.out_degrees().float()\n",
    "print(\"Out-degree Median/Max/Min:\", G_out.median(), G_out.max(), G_out.min())"
   ]
  },
  {
   "cell_type": "code",
   "execution_count": 6,
   "metadata": {},
   "outputs": [],
   "source": [
    "#Add edge/node features\n",
    "#G.ndata['features'] = join_df.node_embedding"
   ]
  },
  {
   "cell_type": "markdown",
   "metadata": {},
   "source": [
    "### R-GCN"
   ]
  },
  {
   "cell_type": "code",
   "execution_count": null,
   "metadata": {},
   "outputs": [],
   "source": []
  }
 ],
 "metadata": {
  "kernelspec": {
   "display_name": "NLP_DGL",
   "language": "python",
   "name": "nlp"
  },
  "language_info": {
   "codemirror_mode": {
    "name": "ipython",
    "version": 3
   },
   "file_extension": ".py",
   "mimetype": "text/x-python",
   "name": "python",
   "nbconvert_exporter": "python",
   "pygments_lexer": "ipython3",
   "version": "3.6.9"
  }
 },
 "nbformat": 4,
 "nbformat_minor": 2
}
